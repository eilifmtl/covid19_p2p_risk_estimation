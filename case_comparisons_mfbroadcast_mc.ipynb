{
 "cells": [
  {
   "cell_type": "code",
   "execution_count": 57,
   "metadata": {},
   "outputs": [],
   "source": [
    "import matplotlib\n",
    "import numpy as np\n",
    "import matplotlib.pyplot as plt\n",
    "%matplotlib inline  "
   ]
  },
  {
   "cell_type": "code",
   "execution_count": 58,
   "metadata": {},
   "outputs": [
    {
     "name": "stdout",
     "output_type": "stream",
     "text": [
      "The autoreload extension is already loaded. To reload it, use:\n",
      "  %reload_ext autoreload\n"
     ]
    }
   ],
   "source": [
    "%load_ext autoreload\n",
    "%autoreload 2"
   ]
  },
  {
   "cell_type": "code",
   "execution_count": 59,
   "metadata": {
    "colab": {},
    "colab_type": "code",
    "id": "RZ5ub2-zu-JL"
   },
   "outputs": [],
   "source": [
    "import numpy\n",
    "import scipy\n",
    "from scipy.stats import bernoulli\n",
    "from copy import deepcopy\n",
    "from tqdm import tqdm"
   ]
  },
  {
   "cell_type": "code",
   "execution_count": 60,
   "metadata": {},
   "outputs": [],
   "source": [
    "import params\n",
    "import monte_carlo\n",
    "import mean_field_agent_disambroadcast as mean_field"
   ]
  },
  {
   "cell_type": "markdown",
   "metadata": {},
   "source": [
    "## Case 1: Repeated interaction of two agents, where the second is infected "
   ]
  },
  {
   "cell_type": "code",
   "execution_count": 61,
   "metadata": {
    "colab": {},
    "colab_type": "code",
    "id": "6Lkf61ClqlYO"
   },
   "outputs": [],
   "source": [
    "# Number of agents\n",
    "params.N = 2\n",
    "# Number of interactions\n",
    "params.M = 100\n",
    "# Transmission probability ~ R0/number of interactions while infectious, what constitutes an interaction? closer than 2m for 2minutes indoors? but touching objects ...\n",
    "params.prob_trans = 0.05 # R0=2/40 interactions \n",
    "params.prob_infection_t0 = 0.01\n",
    "params.num_samples = 999"
   ]
  },
  {
   "cell_type": "code",
   "execution_count": 62,
   "metadata": {},
   "outputs": [],
   "source": [
    "mc = monte_carlo.MonteCarlo()"
   ]
  },
  {
   "cell_type": "code",
   "execution_count": 63,
   "metadata": {},
   "outputs": [],
   "source": [
    "mc.I0[:,0]=0\n",
    "mc.I0[:,1]=1\n",
    "mc.reset()"
   ]
  },
  {
   "cell_type": "code",
   "execution_count": 64,
   "metadata": {},
   "outputs": [],
   "source": [
    "mc.interactions;"
   ]
  },
  {
   "cell_type": "code",
   "execution_count": 65,
   "metadata": {},
   "outputs": [
    {
     "name": "stderr",
     "output_type": "stream",
     "text": [
      "100%|██████████| 100/100 [00:00<00:00, 876.54it/s]\n"
     ]
    }
   ],
   "source": [
    "PI, P_samples = mc.run()"
   ]
  },
  {
   "cell_type": "code",
   "execution_count": 66,
   "metadata": {},
   "outputs": [],
   "source": [
    "a = mean_field.Agent(id=0)\n",
    "b = mean_field.Agent(id=1)\n",
    "a.p = 0.\n",
    "b.p = 1."
   ]
  },
  {
   "cell_type": "code",
   "execution_count": 67,
   "metadata": {},
   "outputs": [
    {
     "name": "stderr",
     "output_type": "stream",
     "text": [
      "100%|██████████| 100/100 [00:00<00:00, 21728.77it/s]\n"
     ]
    }
   ],
   "source": [
    "mf_PI = []\n",
    "for i in tqdm(range(params.M)):\n",
    "    \n",
    "    msg_a, msg_b = mean_field.start_contact(a,b)    \n",
    "    # -------\n",
    "    # Contact ends, and we can compute context & t_exposed\n",
    "    context = mean_field.ContextObject(t_exposed=0)\n",
    "    # -------\n",
    "    mean_field.end_contact(a, b, msg_a, msg_b, context)   \n",
    "\n",
    "    mf_PI.append([a.p, b.p])\n",
    "mf_PI = numpy.array(mf_PI)\n",
    "    "
   ]
  },
  {
   "cell_type": "code",
   "execution_count": 68,
   "metadata": {},
   "outputs": [
    {
     "data": {
      "text/plain": [
       "<matplotlib.legend.Legend at 0x7f8e5153ba20>"
      ]
     },
     "execution_count": 68,
     "metadata": {},
     "output_type": "execute_result"
    },
    {
     "data": {
      "image/png": "[encoded data removed]",
      "text/plain": [
       "<matplotlib.figure.Figure at 0x7f8e51a3dc88>"
      ]
     },
     "metadata": {},
     "output_type": "display_data"
    }
   ],
   "source": [
    "plt.plot(PI[:,0], label=\"Monte Carlo\")\n",
    "plt.plot(mf_PI[:,0], label=\"mean-field\")\n",
    "plt.xlabel(\"# of interactions\")\n",
    "plt.ylabel(\"probability of infection of agent 0\")\n",
    "plt.legend()"
   ]
  },
  {
   "cell_type": "markdown",
   "metadata": {},
   "source": [
    "## Case 2: Intermingling contacts with other agents, without sharing of histories"
   ]
  },
  {
   "cell_type": "code",
   "execution_count": 69,
   "metadata": {},
   "outputs": [],
   "source": [
    "# Number of agents\n",
    "params.N = 5\n",
    "# Number of interactions\n",
    "params.M = 7\n",
    "params.num_samples = 999"
   ]
  },
  {
   "cell_type": "code",
   "execution_count": 70,
   "metadata": {},
   "outputs": [],
   "source": [
    "mc = monte_carlo.MonteCarlo()"
   ]
  },
  {
   "cell_type": "code",
   "execution_count": 71,
   "metadata": {},
   "outputs": [],
   "source": [
    "mc.interactions = numpy.array([[0,1], [1,2], [0,1], [0,3], [0,1], [1,4], [0,1]])"
   ]
  },
  {
   "cell_type": "code",
   "execution_count": 72,
   "metadata": {},
   "outputs": [
    {
     "data": {
      "text/plain": [
       "array([[0, 1],\n",
       "       [1, 2],\n",
       "       [0, 1],\n",
       "       [0, 3],\n",
       "       [0, 1],\n",
       "       [1, 4],\n",
       "       [0, 1]])"
      ]
     },
     "execution_count": 72,
     "metadata": {},
     "output_type": "execute_result"
    }
   ],
   "source": [
    "mc.interactions"
   ]
  },
  {
   "cell_type": "code",
   "execution_count": 73,
   "metadata": {},
   "outputs": [],
   "source": [
    "mc.I0[:,0]=0\n",
    "mc.I0[:,1]=1\n",
    "mc.I0[:,2]=0\n",
    "mc.I0[:,3]=1\n",
    "mc.I0[:,4]=0\n",
    "mc.reset()"
   ]
  },
  {
   "cell_type": "code",
   "execution_count": 74,
   "metadata": {},
   "outputs": [
    {
     "name": "stderr",
     "output_type": "stream",
     "text": [
      "100%|██████████| 7/7 [00:00<00:00, 352.57it/s]\n"
     ]
    }
   ],
   "source": [
    "PI, P_samples = mc.run()"
   ]
  },
  {
   "cell_type": "code",
   "execution_count": 82,
   "metadata": {},
   "outputs": [],
   "source": [
    "agents = [mean_field.Agent(id=i) for i in range(params.N)]\n",
    "for i in range(0,params.N):\n",
    "    agents[i].p = 1.\n",
    "agents[0].p = 0.\n",
    "agents[2].p = 0.\n",
    "agents[4].p = 0."
   ]
  },
  {
   "cell_type": "code",
   "execution_count": 83,
   "metadata": {},
   "outputs": [
    {
     "name": "stderr",
     "output_type": "stream",
     "text": [
      "100%|██████████| 7/7 [00:00<00:00, 2134.35it/s]\n"
     ]
    }
   ],
   "source": [
    "mf_PI = []\n",
    "for i1, i2 in tqdm(mc.interactions):\n",
    "    a = agents[i1]\n",
    "    b = agents[i2]\n",
    "    \n",
    "    msg_a, msg_b = mean_field.start_contact(a, b)    \n",
    "    # -------\n",
    "    # Contact ends, and we can compute context & t_exposed\n",
    "    context = mean_field.ContextObject(t_exposed=0)\n",
    "    # -------\n",
    "    mean_field.end_contact(a, b, msg_a, msg_b, context)   \n",
    "\n",
    "    mf_PI.append([x.p for x in agents])\n",
    "mf_PI = numpy.array(mf_PI)"
   ]
  },
  {
   "cell_type": "code",
   "execution_count": 84,
   "metadata": {},
   "outputs": [
    {
     "data": {
      "text/plain": [
       "<matplotlib.legend.Legend at 0x7f8e51a8cfd0>"
      ]
     },
     "execution_count": 84,
     "metadata": {},
     "output_type": "execute_result"
    },
    {
     "data": {
      "image/png": "[encoded data removed]",
      "text/plain": [
       "<matplotlib.figure.Figure at 0x7f8e51abd518>"
      ]
     },
     "metadata": {},
     "output_type": "display_data"
    }
   ],
   "source": [
    "plt.plot(PI[:,0], label=\"Monte Carlo\")\n",
    "plt.plot(mf_PI[:,0], label=\"mean-field\")\n",
    "plt.xlabel(\"# of interactions\")\n",
    "plt.ylabel(\"probability of infection of agent 0\")\n",
    "plt.legend()"
   ]
  },
  {
   "cell_type": "markdown",
   "metadata": {},
   "source": [
    "## Case 3: Intermingling contacts with other agents, with sharing of histories"
   ]
  },
  {
   "cell_type": "code",
   "execution_count": 85,
   "metadata": {},
   "outputs": [],
   "source": [
    "# Number of agents\n",
    "params.N = 5\n",
    "# Number of interactions\n",
    "params.M = 11\n",
    "params.num_samples = 999"
   ]
  },
  {
   "cell_type": "code",
   "execution_count": 86,
   "metadata": {},
   "outputs": [],
   "source": [
    "mc = monte_carlo.MonteCarlo()"
   ]
  },
  {
   "cell_type": "code",
   "execution_count": 87,
   "metadata": {},
   "outputs": [],
   "source": [
    "mc.interactions = numpy.array([[0,1], [1,2], [0,2], [0,1], [2,4], [1,4], [0,1], [0,3], [0,1], [0,4], [0,1]])"
   ]
  },
  {
   "cell_type": "code",
   "execution_count": 88,
   "metadata": {},
   "outputs": [
    {
     "data": {
      "text/plain": [
       "array([[0, 1],\n",
       "       [1, 2],\n",
       "       [0, 2],\n",
       "       [0, 1],\n",
       "       [2, 4],\n",
       "       [1, 4],\n",
       "       [0, 1],\n",
       "       [0, 3],\n",
       "       [0, 1],\n",
       "       [0, 4],\n",
       "       [0, 1]])"
      ]
     },
     "execution_count": 88,
     "metadata": {},
     "output_type": "execute_result"
    }
   ],
   "source": [
    "mc.interactions"
   ]
  },
  {
   "cell_type": "code",
   "execution_count": 89,
   "metadata": {},
   "outputs": [],
   "source": [
    "mc.I0[:,0]=0\n",
    "mc.I0[:,1]=1\n",
    "mc.I0[:,2]=0\n",
    "mc.I0[:,3]=1\n",
    "mc.I0[:,4]=0\n",
    "mc.reset()"
   ]
  },
  {
   "cell_type": "code",
   "execution_count": 90,
   "metadata": {},
   "outputs": [
    {
     "name": "stderr",
     "output_type": "stream",
     "text": [
      "100%|██████████| 11/11 [00:00<00:00, 752.08it/s]\n"
     ]
    }
   ],
   "source": [
    "PI, P_samples = mc.run()"
   ]
  },
  {
   "cell_type": "code",
   "execution_count": 91,
   "metadata": {},
   "outputs": [],
   "source": [
    "agents = [mean_field.Agent(id=i) for i in range(params.N)]\n",
    "for i in range(0,params.N):\n",
    "    agents[i].p = 1.\n",
    "agents[0].p = 0.\n",
    "agents[2].p = 0.\n",
    "agents[4].p = 0."
   ]
  },
  {
   "cell_type": "code",
   "execution_count": 92,
   "metadata": {},
   "outputs": [
    {
     "name": "stderr",
     "output_type": "stream",
     "text": [
      "100%|██████████| 11/11 [00:00<00:00, 18514.18it/s]\n"
     ]
    }
   ],
   "source": [
    "mf_PI = []\n",
    "for i1, i2 in tqdm(mc.interactions):\n",
    "    a = agents[i1]\n",
    "    b = agents[i2]\n",
    "    \n",
    "    msg_a, msg_b = mean_field.start_contact(a, b)    \n",
    "    # -------\n",
    "    # Contact ends, and we can compute context & t_exposed\n",
    "    context = mean_field.ContextObject(t_exposed=0)\n",
    "    # -------\n",
    "    mean_field.end_contact(a, b, msg_a, msg_b, context)   \n",
    "\n",
    "    mf_PI.append([x.p for x in agents])\n",
    "mf_PI = numpy.array(mf_PI)"
   ]
  },
  {
   "cell_type": "code",
   "execution_count": 93,
   "metadata": {},
   "outputs": [
    {
     "data": {
      "text/plain": [
       "<matplotlib.legend.Legend at 0x7f8e51a53f28>"
      ]
     },
     "execution_count": 93,
     "metadata": {},
     "output_type": "execute_result"
    },
    {
     "data": {
      "image/png": "[encoded data removed]",
      "text/plain": [
       "<matplotlib.figure.Figure at 0x7f8e5154f358>"
      ]
     },
     "metadata": {},
     "output_type": "display_data"
    }
   ],
   "source": [
    "plt.plot(PI[:,0], label=\"Monte Carlo\")\n",
    "plt.plot(mf_PI[:,0], label=\"mean-field\")\n",
    "plt.xlabel(\"# of interactions\")\n",
    "plt.ylabel(\"probability of infection of agent 0\")\n",
    "plt.legend()"
   ]
  },
  {
   "cell_type": "markdown",
   "metadata": {},
   "source": [
    "### The mean-field equations yield an upper bound on the risk, due to the no shared histories assumption"
   ]
  },
  {
   "cell_type": "markdown",
   "metadata": {},
   "source": [
    "## Case 4: Many agents, many interactions, with shared of histories"
   ]
  },
  {
   "cell_type": "code",
   "execution_count": 106,
   "metadata": {},
   "outputs": [],
   "source": [
    "# Number of agents\n",
    "params.N = 1000\n",
    "# Number of interactions\n",
    "params.M = 10000\n",
    "# Transmission probability ~ R0/number of interactions while infectious, what constitutes an interaction? closer than 2m for 2minutes indoors? but touching objects ...\n",
    "params.prob_trans = 0.05 # R0=2/40 interactions \n",
    "params.prob_infection_t0 = 0.01\n",
    "params.num_samples = 99"
   ]
  },
  {
   "cell_type": "code",
   "execution_count": 107,
   "metadata": {},
   "outputs": [],
   "source": [
    "mc = monte_carlo.MonteCarlo()"
   ]
  },
  {
   "cell_type": "code",
   "execution_count": 108,
   "metadata": {},
   "outputs": [
    {
     "data": {
      "text/plain": [
       "array([[343, 316],\n",
       "       [415, 738],\n",
       "       [652, 650],\n",
       "       ...,\n",
       "       [182, 122],\n",
       "       [486, 674],\n",
       "       [904, 909]])"
      ]
     },
     "execution_count": 108,
     "metadata": {},
     "output_type": "execute_result"
    }
   ],
   "source": [
    "mc.interactions"
   ]
  },
  {
   "cell_type": "code",
   "execution_count": 109,
   "metadata": {},
   "outputs": [
    {
     "data": {
      "text/plain": [
       "array([[0, 0, 0, ..., 0, 0, 0],\n",
       "       [0, 0, 0, ..., 0, 0, 0],\n",
       "       [0, 0, 0, ..., 0, 0, 0],\n",
       "       ...,\n",
       "       [0, 0, 0, ..., 0, 0, 0],\n",
       "       [0, 0, 0, ..., 0, 0, 0],\n",
       "       [0, 0, 0, ..., 0, 0, 0]])"
      ]
     },
     "execution_count": 109,
     "metadata": {},
     "output_type": "execute_result"
    }
   ],
   "source": [
    "mc.I0"
   ]
  },
  {
   "cell_type": "code",
   "execution_count": 110,
   "metadata": {},
   "outputs": [
    {
     "name": "stderr",
     "output_type": "stream",
     "text": [
      "100%|██████████| 10000/10000 [00:05<00:00, 1794.07it/s]\n"
     ]
    }
   ],
   "source": [
    "PI, P_samples = mc.run()"
   ]
  },
  {
   "cell_type": "code",
   "execution_count": 111,
   "metadata": {},
   "outputs": [],
   "source": [
    "agents = [mean_field.Agent(id=i) for i in range(params.N)]\n",
    "for i in range(0,params.N):\n",
    "    agents[i].p = params.prob_infection_t0"
   ]
  },
  {
   "cell_type": "code",
   "execution_count": 112,
   "metadata": {},
   "outputs": [
    {
     "name": "stderr",
     "output_type": "stream",
     "text": [
      "100%|██████████| 10000/10000 [00:06<00:00, 1650.50it/s]\n"
     ]
    }
   ],
   "source": [
    "mf_PI = []\n",
    "for i1, i2 in tqdm(mc.interactions):\n",
    "    a = agents[i1]\n",
    "    b = agents[i2]\n",
    "    \n",
    "    msg_a, msg_b = mean_field.start_contact(a, b)    \n",
    "    # -------\n",
    "    # Contact ends, and we can compute context & t_exposed\n",
    "    context = mean_field.ContextObject(t_exposed=0)\n",
    "    # -------\n",
    "    mean_field.end_contact(a, b, msg_a, msg_b, context)   \n",
    "\n",
    "    mf_PI.append([x.p for x in agents])\n",
    "mf_PI = numpy.array(mf_PI)"
   ]
  },
  {
   "cell_type": "code",
   "execution_count": null,
   "metadata": {
    "scrolled": true
   },
   "outputs": [],
   "source": [
    "plt.plot(PI[:,0], label=\"Monte Carlo\")\n",
    "plt.plot(mf_PI[:,0], label=\"mean-field\")\n",
    "plt.xlabel(\"# of interactions\")\n",
    "plt.ylabel(\"probability of infection of agent 0\")\n",
    "plt.legend()"
   ]
  },
  {
   "cell_type": "code",
   "execution_count": null,
   "metadata": {},
   "outputs": [],
   "source": []
  }
 ],
 "metadata": {
  "colab": {
   "collapsed_sections": [],
   "name": "Untitled0.ipynb",
   "provenance": []
  },
  "kernelspec": {
   "display_name": "Python 3",
   "language": "python",
   "name": "python3"
  },
  "language_info": {
   "codemirror_mode": {
    "name": "ipython",
    "version": 3
   },
   "file_extension": ".py",
   "mimetype": "text/x-python",
   "name": "python",
   "nbconvert_exporter": "python",
   "pygments_lexer": "ipython3",
   "version": "3.6.9"
  }
 },
 "nbformat": 4,
 "nbformat_minor": 1
}
