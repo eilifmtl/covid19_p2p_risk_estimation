{
 "cells": [
  {
   "cell_type": "code",
   "execution_count": 1,
   "metadata": {},
   "outputs": [],
   "source": [
    "import matplotlib\n",
    "import numpy as np\n",
    "import matplotlib.pyplot as plt\n",
    "%matplotlib inline  "
   ]
  },
  {
   "cell_type": "code",
   "execution_count": 2,
   "metadata": {},
   "outputs": [],
   "source": [
    "%load_ext autoreload\n",
    "%autoreload 2"
   ]
  },
  {
   "cell_type": "code",
   "execution_count": 3,
   "metadata": {
    "colab": {},
    "colab_type": "code",
    "id": "RZ5ub2-zu-JL"
   },
   "outputs": [],
   "source": [
    "import numpy\n",
    "import scipy\n",
    "from scipy.stats import bernoulli\n",
    "from copy import deepcopy\n",
    "from tqdm import tqdm"
   ]
  },
  {
   "cell_type": "code",
   "execution_count": 4,
   "metadata": {},
   "outputs": [],
   "source": [
    "import params\n",
    "import monte_carlo\n",
    "import mean_field_agent_disambroadcast as mean_field"
   ]
  },
  {
   "cell_type": "markdown",
   "metadata": {},
   "source": [
    "## Case 1: Repeated interaction of two agents, where the second is infected "
   ]
  },
  {
   "cell_type": "code",
   "execution_count": 47,
   "metadata": {
    "colab": {},
    "colab_type": "code",
    "id": "6Lkf61ClqlYO"
   },
   "outputs": [],
   "source": [
    "# Number of agents\n",
    "params.N = 2\n",
    "# Number of interactions\n",
    "params.M = 100\n",
    "# Transmission probability ~ R0/number of interactions while infectious, what constitutes an interaction? closer than 2m for 2minutes indoors? but touching objects ...\n",
    "params.prob_trans = 0.05 # R0=2/40 interactions \n",
    "params.prob_infection_t0 = 0.01\n",
    "params.num_samples = 999"
   ]
  },
  {
   "cell_type": "code",
   "execution_count": 48,
   "metadata": {},
   "outputs": [],
   "source": [
    "mc = monte_carlo.MonteCarlo()"
   ]
  },
  {
   "cell_type": "code",
   "execution_count": 49,
   "metadata": {},
   "outputs": [],
   "source": [
    "mc.I0[:,0]=0\n",
    "mc.I0[:,1]=1\n",
    "mc.reset()"
   ]
  },
  {
   "cell_type": "code",
   "execution_count": 50,
   "metadata": {},
   "outputs": [],
   "source": [
    "mc.interactions;"
   ]
  },
  {
   "cell_type": "code",
   "execution_count": 51,
   "metadata": {},
   "outputs": [
    {
     "name": "stderr",
     "output_type": "stream",
     "text": [
      "100%|██████████| 100/100 [00:00<00:00, 3660.88it/s]\n"
     ]
    }
   ],
   "source": [
    "PI, P_samples = mc.run()"
   ]
  },
  {
   "cell_type": "code",
   "execution_count": 52,
   "metadata": {},
   "outputs": [],
   "source": [
    "a = mean_field.Agent(id=0)\n",
    "b = mean_field.Agent(id=1)\n",
    "a.p = 0.\n",
    "b.p = 1."
   ]
  },
  {
   "cell_type": "code",
   "execution_count": 53,
   "metadata": {},
   "outputs": [
    {
     "name": "stderr",
     "output_type": "stream",
     "text": [
      "100%|██████████| 100/100 [00:00<00:00, 104831.39it/s]\n"
     ]
    }
   ],
   "source": [
    "mf_PI = []\n",
    "for i in tqdm(range(params.M)):\n",
    "    \n",
    "    msg_a, msg_b = mean_field.start_contact(a,b)    \n",
    "    # -------\n",
    "    # Contact ends, and we can compute context & t_exposed\n",
    "    context = mean_field.ContextObject(t_exposed=0)\n",
    "    # -------\n",
    "    mean_field.end_contact(a, b, msg_a, msg_b, context)   \n",
    "\n",
    "    mf_PI.append([a.p, b.p])\n",
    "mf_PI = numpy.array(mf_PI)\n",
    "    "
   ]
  },
  {
   "cell_type": "code",
   "execution_count": 55,
   "metadata": {},
   "outputs": [
    {
     "data": {
      "text/plain": [
       "<matplotlib.legend.Legend at 0x7f5cec532668>"
      ]
     },
     "execution_count": 55,
     "metadata": {},
     "output_type": "execute_result"
    },
    {
     "data": {
      "image/png": "[encoded data removed]",
      "text/plain": [
       "<matplotlib.figure.Figure at 0x7f5cec5f1cf8>"
      ]
     },
     "metadata": {},
     "output_type": "display_data"
    }
   ],
   "source": [
    "plt.plot(PI[:40,0], label=\"Monte Carlo\")\n",
    "plt.plot(mf_PI[:40,0], label=\"mean-field\")\n",
    "plt.xlabel(\"# of interactions\")\n",
    "plt.ylabel(\"probability of infection of agent 0\")\n",
    "plt.legend()"
   ]
  },
  {
   "cell_type": "markdown",
   "metadata": {},
   "source": [
    "## Case 2: Intermingling contacts with other agents, without sharing of histories"
   ]
  },
  {
   "cell_type": "code",
   "execution_count": 13,
   "metadata": {},
   "outputs": [],
   "source": [
    "# Number of agents\n",
    "params.N = 5\n",
    "# Number of interactions\n",
    "params.M = 7\n",
    "params.num_samples = 999"
   ]
  },
  {
   "cell_type": "code",
   "execution_count": 14,
   "metadata": {},
   "outputs": [],
   "source": [
    "mc = monte_carlo.MonteCarlo()"
   ]
  },
  {
   "cell_type": "code",
   "execution_count": 15,
   "metadata": {},
   "outputs": [],
   "source": [
    "mc.interactions = numpy.array([[0,1], [1,2], [0,1], [0,3], [0,1], [1,4], [0,1]])"
   ]
  },
  {
   "cell_type": "code",
   "execution_count": 16,
   "metadata": {},
   "outputs": [
    {
     "data": {
      "text/plain": [
       "array([[0, 1],\n",
       "       [1, 2],\n",
       "       [0, 1],\n",
       "       [0, 3],\n",
       "       [0, 1],\n",
       "       [1, 4],\n",
       "       [0, 1]])"
      ]
     },
     "execution_count": 16,
     "metadata": {},
     "output_type": "execute_result"
    }
   ],
   "source": [
    "mc.interactions"
   ]
  },
  {
   "cell_type": "code",
   "execution_count": 17,
   "metadata": {},
   "outputs": [],
   "source": [
    "mc.I0[:,0]=0\n",
    "mc.I0[:,1]=1\n",
    "mc.I0[:,2]=0\n",
    "mc.I0[:,3]=1\n",
    "mc.I0[:,4]=0\n",
    "mc.reset()"
   ]
  },
  {
   "cell_type": "code",
   "execution_count": 18,
   "metadata": {},
   "outputs": [
    {
     "name": "stderr",
     "output_type": "stream",
     "text": [
      "100%|██████████| 7/7 [00:00<00:00, 2678.84it/s]\n"
     ]
    }
   ],
   "source": [
    "PI, P_samples = mc.run()"
   ]
  },
  {
   "cell_type": "code",
   "execution_count": 19,
   "metadata": {},
   "outputs": [],
   "source": [
    "agents = [mean_field.Agent(id=i) for i in range(params.N)]\n",
    "for i in range(0,params.N):\n",
    "    agents[i].p = 1.\n",
    "agents[0].p = 0.\n",
    "agents[2].p = 0.\n",
    "agents[4].p = 0."
   ]
  },
  {
   "cell_type": "code",
   "execution_count": 20,
   "metadata": {},
   "outputs": [
    {
     "name": "stderr",
     "output_type": "stream",
     "text": [
      "100%|██████████| 7/7 [00:00<00:00, 20374.83it/s]\n"
     ]
    }
   ],
   "source": [
    "mf_PI = []\n",
    "for i1, i2 in tqdm(mc.interactions):\n",
    "    a = agents[i1]\n",
    "    b = agents[i2]\n",
    "    \n",
    "    msg_a, msg_b = mean_field.start_contact(a, b)    \n",
    "    # -------\n",
    "    # Contact ends, and we can compute context & t_exposed\n",
    "    context = mean_field.ContextObject(t_exposed=0)\n",
    "    # -------\n",
    "    mean_field.end_contact(a, b, msg_a, msg_b, context)   \n",
    "\n",
    "    mf_PI.append([x.p for x in agents])\n",
    "mf_PI = numpy.array(mf_PI)"
   ]
  },
  {
   "cell_type": "code",
   "execution_count": 21,
   "metadata": {},
   "outputs": [
    {
     "data": {
      "text/plain": [
       "<matplotlib.legend.Legend at 0x7f5d18b516d8>"
      ]
     },
     "execution_count": 21,
     "metadata": {},
     "output_type": "execute_result"
    },
    {
     "data": {
      "image/png": "[encoded data removed]",
      "text/plain": [
       "<matplotlib.figure.Figure at 0x7f5d18b93d30>"
      ]
     },
     "metadata": {},
     "output_type": "display_data"
    }
   ],
   "source": [
    "plt.plot(PI[:,0], label=\"Monte Carlo\")\n",
    "plt.plot(mf_PI[:,0], label=\"mean-field\")\n",
    "plt.xlabel(\"# of interactions\")\n",
    "plt.ylabel(\"probability of infection of agent 0\")\n",
    "plt.legend()"
   ]
  },
  {
   "cell_type": "markdown",
   "metadata": {},
   "source": [
    "## Case 3: Intermingling contacts with other agents, with sharing of histories"
   ]
  },
  {
   "cell_type": "code",
   "execution_count": 22,
   "metadata": {},
   "outputs": [],
   "source": [
    "# Number of agents\n",
    "params.N = 5\n",
    "# Number of interactions\n",
    "params.M = 11\n",
    "params.num_samples = 999"
   ]
  },
  {
   "cell_type": "code",
   "execution_count": 23,
   "metadata": {},
   "outputs": [],
   "source": [
    "mc = monte_carlo.MonteCarlo()"
   ]
  },
  {
   "cell_type": "code",
   "execution_count": 24,
   "metadata": {},
   "outputs": [],
   "source": [
    "mc.interactions = numpy.array([[0,1], [1,2], [0,2], [0,1], [2,4], [1,4], [0,1], [0,3], [0,1], [0,4], [0,1]])"
   ]
  },
  {
   "cell_type": "code",
   "execution_count": 25,
   "metadata": {},
   "outputs": [
    {
     "data": {
      "text/plain": [
       "array([[0, 1],\n",
       "       [1, 2],\n",
       "       [0, 2],\n",
       "       [0, 1],\n",
       "       [2, 4],\n",
       "       [1, 4],\n",
       "       [0, 1],\n",
       "       [0, 3],\n",
       "       [0, 1],\n",
       "       [0, 4],\n",
       "       [0, 1]])"
      ]
     },
     "execution_count": 25,
     "metadata": {},
     "output_type": "execute_result"
    }
   ],
   "source": [
    "mc.interactions"
   ]
  },
  {
   "cell_type": "code",
   "execution_count": 26,
   "metadata": {},
   "outputs": [],
   "source": [
    "mc.I0[:,0]=0\n",
    "mc.I0[:,1]=1\n",
    "mc.I0[:,2]=0\n",
    "mc.I0[:,3]=1\n",
    "mc.I0[:,4]=0\n",
    "mc.reset()"
   ]
  },
  {
   "cell_type": "code",
   "execution_count": 27,
   "metadata": {},
   "outputs": [
    {
     "name": "stderr",
     "output_type": "stream",
     "text": [
      "100%|██████████| 11/11 [00:00<00:00, 1977.00it/s]\n"
     ]
    }
   ],
   "source": [
    "PI, P_samples = mc.run()"
   ]
  },
  {
   "cell_type": "code",
   "execution_count": 28,
   "metadata": {},
   "outputs": [],
   "source": [
    "agents = [mean_field.Agent(id=i) for i in range(params.N)]\n",
    "for i in range(0,params.N):\n",
    "    agents[i].p = 1.\n",
    "agents[0].p = 0.\n",
    "agents[2].p = 0.\n",
    "agents[4].p = 0."
   ]
  },
  {
   "cell_type": "code",
   "execution_count": 29,
   "metadata": {},
   "outputs": [
    {
     "name": "stderr",
     "output_type": "stream",
     "text": [
      "100%|██████████| 11/11 [00:00<00:00, 31709.51it/s]\n"
     ]
    }
   ],
   "source": [
    "mf_PI = []\n",
    "for i1, i2 in tqdm(mc.interactions):\n",
    "    a = agents[i1]\n",
    "    b = agents[i2]\n",
    "    \n",
    "    msg_a, msg_b = mean_field.start_contact(a, b)    \n",
    "    # -------\n",
    "    # Contact ends, and we can compute context & t_exposed\n",
    "    context = mean_field.ContextObject(t_exposed=0)\n",
    "    # -------\n",
    "    mean_field.end_contact(a, b, msg_a, msg_b, context)   \n",
    "\n",
    "    mf_PI.append([x.p for x in agents])\n",
    "mf_PI = numpy.array(mf_PI)"
   ]
  },
  {
   "cell_type": "code",
   "execution_count": 30,
   "metadata": {},
   "outputs": [
    {
     "data": {
      "text/plain": [
       "<matplotlib.legend.Legend at 0x7f5d18ad1128>"
      ]
     },
     "execution_count": 30,
     "metadata": {},
     "output_type": "execute_result"
    },
    {
     "data": {
      "image/png": "[encoded data removed]",
      "text/plain": [
       "<matplotlib.figure.Figure at 0x7f5d18b28780>"
      ]
     },
     "metadata": {},
     "output_type": "display_data"
    }
   ],
   "source": [
    "plt.plot(PI[:,0], label=\"Monte Carlo\")\n",
    "plt.plot(mf_PI[:,0], label=\"mean-field\")\n",
    "plt.xlabel(\"# of interactions\")\n",
    "plt.ylabel(\"probability of infection of agent 0\")\n",
    "plt.legend()"
   ]
  },
  {
   "cell_type": "markdown",
   "metadata": {},
   "source": [
    "### The mean-field equations yield an upper bound on the risk, due to the no shared histories assumption"
   ]
  },
  {
   "cell_type": "markdown",
   "metadata": {},
   "source": [
    "## Case 4: Many agents, many interactions, with shared of histories"
   ]
  },
  {
   "cell_type": "code",
   "execution_count": 31,
   "metadata": {},
   "outputs": [],
   "source": [
    "# Number of agents\n",
    "params.N = 1000\n",
    "# Number of interactions\n",
    "params.M = 10000\n",
    "# Transmission probability ~ R0/number of interactions while infectious, what constitutes an interaction? closer than 2m for 2minutes indoors? but touching objects ...\n",
    "params.prob_trans = 0.05 # R0=2/40 interactions \n",
    "params.prob_infection_t0 = 0.01\n",
    "params.num_samples = 99"
   ]
  },
  {
   "cell_type": "code",
   "execution_count": 32,
   "metadata": {},
   "outputs": [],
   "source": [
    "mc = monte_carlo.MonteCarlo()"
   ]
  },
  {
   "cell_type": "code",
   "execution_count": 33,
   "metadata": {},
   "outputs": [
    {
     "data": {
      "text/plain": [
       "array([[308, 736],\n",
       "       [398, 558],\n",
       "       [268, 918],\n",
       "       ...,\n",
       "       [558, 148],\n",
       "       [752, 237],\n",
       "       [779, 898]])"
      ]
     },
     "execution_count": 33,
     "metadata": {},
     "output_type": "execute_result"
    }
   ],
   "source": [
    "mc.interactions"
   ]
  },
  {
   "cell_type": "code",
   "execution_count": 34,
   "metadata": {},
   "outputs": [
    {
     "data": {
      "text/plain": [
       "array([[0, 0, 1, ..., 0, 0, 0],\n",
       "       [0, 0, 0, ..., 0, 0, 0],\n",
       "       [0, 0, 0, ..., 0, 0, 0],\n",
       "       ...,\n",
       "       [0, 0, 0, ..., 0, 0, 0],\n",
       "       [0, 0, 0, ..., 0, 0, 0],\n",
       "       [0, 0, 0, ..., 0, 0, 0]])"
      ]
     },
     "execution_count": 34,
     "metadata": {},
     "output_type": "execute_result"
    }
   ],
   "source": [
    "mc.I0"
   ]
  },
  {
   "cell_type": "code",
   "execution_count": 35,
   "metadata": {},
   "outputs": [
    {
     "name": "stderr",
     "output_type": "stream",
     "text": [
      "100%|██████████| 10000/10000 [00:01<00:00, 5170.21it/s]\n"
     ]
    }
   ],
   "source": [
    "PI, P_samples = mc.run()"
   ]
  },
  {
   "cell_type": "code",
   "execution_count": 36,
   "metadata": {},
   "outputs": [],
   "source": [
    "agents = [mean_field.Agent(id=i) for i in range(params.N)]\n",
    "for i in range(0,params.N):\n",
    "    agents[i].p = params.prob_infection_t0"
   ]
  },
  {
   "cell_type": "code",
   "execution_count": 37,
   "metadata": {},
   "outputs": [
    {
     "name": "stderr",
     "output_type": "stream",
     "text": [
      "100%|██████████| 10000/10000 [00:00<00:00, 14176.72it/s]\n"
     ]
    }
   ],
   "source": [
    "mf_PI = []\n",
    "for i1, i2 in tqdm(mc.interactions):\n",
    "    a = agents[i1]\n",
    "    b = agents[i2]\n",
    "    \n",
    "    msg_a, msg_b = mean_field.start_contact(a, b)    \n",
    "    # -------\n",
    "    # Contact ends, and we can compute context & t_exposed\n",
    "    context = mean_field.ContextObject(t_exposed=0)\n",
    "    # -------\n",
    "    mean_field.end_contact(a, b, msg_a, msg_b, context)   \n",
    "\n",
    "    mf_PI.append([x.p for x in agents])\n",
    "mf_PI = numpy.array(mf_PI)"
   ]
  },
  {
   "cell_type": "code",
   "execution_count": 38,
   "metadata": {
    "scrolled": true
   },
   "outputs": [
    {
     "data": {
      "text/plain": [
       "<matplotlib.legend.Legend at 0x7f5d187a9978>"
      ]
     },
     "execution_count": 38,
     "metadata": {},
     "output_type": "execute_result"
    },
    {
     "data": {
      "image/png": "[encoded data removed]",
      "text/plain": [
       "<matplotlib.figure.Figure at 0x7f5d188b8668>"
      ]
     },
     "metadata": {},
     "output_type": "display_data"
    }
   ],
   "source": [
    "plt.plot(PI[:,0], label=\"Monte Carlo\")\n",
    "plt.plot(mf_PI[:,0], label=\"mean-field\")\n",
    "plt.xlabel(\"# of interactions\")\n",
    "plt.ylabel(\"probability of infection of agent 0\")\n",
    "plt.legend()"
   ]
  },
  {
   "cell_type": "code",
   "execution_count": null,
   "metadata": {},
   "outputs": [],
   "source": []
  }
 ],
 "metadata": {
  "colab": {
   "collapsed_sections": [],
   "name": "Untitled0.ipynb",
   "provenance": []
  },
  "kernelspec": {
   "display_name": "Python 3",
   "language": "python",
   "name": "python3"
  },
  "language_info": {
   "codemirror_mode": {
    "name": "ipython",
    "version": 3
   },
   "file_extension": ".py",
   "mimetype": "text/x-python",
   "name": "python",
   "nbconvert_exporter": "python",
   "pygments_lexer": "ipython3",
   "version": "3.6.9"
  }
 },
 "nbformat": 4,
 "nbformat_minor": 1
}
